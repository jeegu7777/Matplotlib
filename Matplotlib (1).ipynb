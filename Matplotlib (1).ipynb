{
  "nbformat": 4,
  "nbformat_minor": 0,
  "metadata": {
    "colab": {
      "provenance": []
    },
    "kernelspec": {
      "name": "python3",
      "display_name": "Python 3"
    },
    "language_info": {
      "name": "python"
    }
  },
  "cells": [
    {
      "cell_type": "markdown",
      "source": [
        "# Matplotlib : Visualization library"
      ],
      "metadata": {
        "id": "PE8enV6XjBO3"
      }
    },
    {
      "cell_type": "code",
      "execution_count": null,
      "metadata": {
        "colab": {
          "base_uri": "https://localhost:8080/"
        },
        "id": "IWC_fS_HihCk",
        "outputId": "e50a5465-a191-4087-fe77-36dd20712c7e"
      },
      "outputs": [
        {
          "output_type": "stream",
          "name": "stdout",
          "text": [
            "Looking in indexes: https://pypi.org/simple, https://us-python.pkg.dev/colab-wheels/public/simple/\n",
            "Requirement already satisfied: matplotlib in /usr/local/lib/python3.8/dist-packages (3.2.2)\n",
            "Requirement already satisfied: kiwisolver>=1.0.1 in /usr/local/lib/python3.8/dist-packages (from matplotlib) (1.4.4)\n",
            "Requirement already satisfied: python-dateutil>=2.1 in /usr/local/lib/python3.8/dist-packages (from matplotlib) (2.8.2)\n",
            "Requirement already satisfied: numpy>=1.11 in /usr/local/lib/python3.8/dist-packages (from matplotlib) (1.21.6)\n",
            "Requirement already satisfied: cycler>=0.10 in /usr/local/lib/python3.8/dist-packages (from matplotlib) (0.11.0)\n",
            "Requirement already satisfied: pyparsing!=2.0.4,!=2.1.2,!=2.1.6,>=2.0.1 in /usr/local/lib/python3.8/dist-packages (from matplotlib) (3.0.9)\n",
            "Requirement already satisfied: six>=1.5 in /usr/local/lib/python3.8/dist-packages (from python-dateutil>=2.1->matplotlib) (1.15.0)\n"
          ]
        }
      ],
      "source": [
        "pip install matplotlib"
      ]
    },
    {
      "cell_type": "code",
      "source": [
        "import matplotlib. pyplot as plt\n",
        "%matplotlib inline"
      ],
      "metadata": {
        "id": "9SMLyu9Pjrz5"
      },
      "execution_count": null,
      "outputs": []
    },
    {
      "cell_type": "code",
      "source": [
        "import numpy as np\n",
        "x = np.arange(0,20)\n",
        "y = np.arange(11,31)"
      ],
      "metadata": {
        "id": "skXJ1g5SltZp"
      },
      "execution_count": null,
      "outputs": []
    },
    {
      "cell_type": "code",
      "source": [
        "print(x)\n",
        "print(y)"
      ],
      "metadata": {
        "colab": {
          "base_uri": "https://localhost:8080/"
        },
        "id": "v_CXen0FpFz7",
        "outputId": "95db9cbb-8399-4bd8-f13d-d4a7b491dc46"
      },
      "execution_count": null,
      "outputs": [
        {
          "output_type": "stream",
          "name": "stdout",
          "text": [
            "[ 0  1  2  3  4  5  6  7  8  9 10 11 12 13 14 15 16 17 18 19]\n",
            "[11 12 13 14 15 16 17 18 19 20 21 22 23 24 25 26 27 28 29 30]\n"
          ]
        }
      ]
    },
    {
      "cell_type": "code",
      "source": [
        "plt.scatter?"
      ],
      "metadata": {
        "id": "t0iYwAj6pJ-Q"
      },
      "execution_count": null,
      "outputs": []
    },
    {
      "cell_type": "code",
      "source": [
        "plt.scatter(x,y,c='y')\n",
        "plt.xlabel('House Sizes')\n",
        "plt.ylabel('House Prices')"
      ],
      "metadata": {
        "colab": {
          "base_uri": "https://localhost:8080/",
          "height": 296
        },
        "id": "6dmu8QrrqGRK",
        "outputId": "0a2502b4-8772-46e4-8e82-5b2f4165e360"
      },
      "execution_count": null,
      "outputs": [
        {
          "output_type": "execute_result",
          "data": {
            "text/plain": [
              "Text(0, 0.5, 'House Prices')"
            ]
          },
          "metadata": {},
          "execution_count": 11
        },
        {
          "output_type": "display_data",
          "data": {
            "text/plain": [
              "<Figure size 432x288 with 1 Axes>"
            ],
            "image/png": "[encoded data removed]"
          },
          "metadata": {
            "needs_background": "light"
          }
        }
      ]
    },
    {
      "cell_type": "code",
      "source": [
        "plt.scatter(x,y, c = \"r\")\n",
        "plt.xlabel('House Sizes')\n",
        "plt.ylabel('House prices')"
      ],
      "metadata": {
        "colab": {
          "base_uri": "https://localhost:8080/",
          "height": 296
        },
        "id": "-xBNSiC2tHPP",
        "outputId": "2169018b-4d0e-45cc-8170-e5cc62149609"
      },
      "execution_count": null,
      "outputs": [
        {
          "output_type": "execute_result",
          "data": {
            "text/plain": [
              "Text(0, 0.5, 'House prices')"
            ]
          },
          "metadata": {},
          "execution_count": 12
        },
        {
          "output_type": "display_data",
          "data": {
            "text/plain": [
              "<Figure size 432x288 with 1 Axes>"
            ],
            "image/png": "[encoded data removed]"
          },
          "metadata": {
            "needs_background": "light"
          }
        }
      ]
    },
    {
      "cell_type": "code",
      "source": [
        "# array function belong to the numpy library \n",
        "x"
      ],
      "metadata": {
        "colab": {
          "base_uri": "https://localhost:8080/"
        },
        "id": "RtlcNXrUtw5O",
        "outputId": "4f565b57-2220-41ab-8b56-e67f10269de6"
      },
      "execution_count": null,
      "outputs": [
        {
          "output_type": "execute_result",
          "data": {
            "text/plain": [
              "array([ 0,  1,  2,  3,  4,  5,  6,  7,  8,  9, 10, 11, 12, 13, 14, 15, 16,\n",
              "       17, 18, 19])"
            ]
          },
          "metadata": {},
          "execution_count": 14
        }
      ]
    },
    {
      "cell_type": "code",
      "source": [
        "y = x*x\n",
        "y"
      ],
      "metadata": {
        "colab": {
          "base_uri": "https://localhost:8080/"
        },
        "id": "y-_v_g-gugBb",
        "outputId": "7189809a-0014-4876-aba2-3e396ebf5956"
      },
      "execution_count": null,
      "outputs": [
        {
          "output_type": "execute_result",
          "data": {
            "text/plain": [
              "array([  0,   1,   4,   9,  16,  25,  36,  49,  64,  81, 100, 121, 144,\n",
              "       169, 196, 225, 256, 289, 324, 361])"
            ]
          },
          "metadata": {},
          "execution_count": 23
        }
      ]
    },
    {
      "cell_type": "code",
      "source": [
        "plt.plot(x ,y,\"g+\")\n",
        "plt.xlabel(\"House Sizes\")\n",
        "plt.ylabel(\"House Prices\")"
      ],
      "metadata": {
        "colab": {
          "base_uri": "https://localhost:8080/",
          "height": 296
        },
        "id": "ifXlnCbQvQeW",
        "outputId": "059b30bd-d92f-4b9a-da75-671fcd59a44b"
      },
      "execution_count": null,
      "outputs": [
        {
          "output_type": "execute_result",
          "data": {
            "text/plain": [
              "Text(0, 0.5, 'House Prices')"
            ]
          },
          "metadata": {},
          "execution_count": 21
        },
        {
          "output_type": "display_data",
          "data": {
            "text/plain": [
              "<Figure size 432x288 with 1 Axes>"
            ],
            "image/png": "[encoded data removed]"
          },
          "metadata": {
            "needs_background": "light"
          }
        }
      ]
    },
    {
      "cell_type": "code",
      "source": [
        "plt.plot(x,y,\"c*\")\n",
        "plt.xlabel('house sizes')\n",
        "plt.ylabel('house prices')"
      ],
      "metadata": {
        "colab": {
          "base_uri": "https://localhost:8080/",
          "height": 296
        },
        "id": "LsGi3i2Hv4x6",
        "outputId": "2c00e270-e12e-40ed-8f0d-8edf02c37a3f"
      },
      "execution_count": null,
      "outputs": [
        {
          "output_type": "execute_result",
          "data": {
            "text/plain": [
              "Text(0, 0.5, 'house prices')"
            ]
          },
          "metadata": {},
          "execution_count": 34
        },
        {
          "output_type": "display_data",
          "data": {
            "text/plain": [
              "<Figure size 432x288 with 1 Axes>"
            ],
            "image/png": "[encoded data removed]"
          },
          "metadata": {
            "needs_background": "light"
          }
        }
      ]
    },
    {
      "cell_type": "code",
      "source": [
        "plt.plot?"
      ],
      "metadata": {
        "id": "g2B9sFzcw5xx"
      },
      "execution_count": null,
      "outputs": []
    },
    {
      "cell_type": "code",
      "source": [
        "**Markers**\n",
        "\n",
        "=============    ===============================\n",
        "character        description\n",
        "=============    ===============================\n",
        "``'.'``          point marker\n",
        "``','``          pixel marker\n",
        "``'o'``          circle marker\n",
        "``'v'``          triangle_down marker\n",
        "``'^'``          triangle_up marker\n",
        "``'<'``          triangle_left marker\n",
        "``'>'``          triangle_right marker\n",
        "``'1'``          tri_down marker\n",
        "``'2'``          tri_up marker\n",
        "``'3'``          tri_left marker\n",
        "``'4'``          tri_right marker\n",
        "``'s'``          square marker\n",
        "``'p'``          pentagon marker\n",
        "``'*'``          star marker\n",
        "``'h'``          hexagon1 marker\n",
        "``'H'``          hexagon2 marker\n",
        "``'+'``          plus marker\n",
        "``'x'``          x marker\n",
        "``'D'``          diamond marker\n",
        "``'d'``          thin_diamond marker\n",
        "``'|'``          vline marker\n",
        "``'_'``          hline marker\n",
        "=============    ===============================\n",
        "\n",
        "**Line Styles**\n",
        "\n",
        "=============    ===============================\n",
        "character        description\n",
        "=============    ===============================\n",
        "``'-'``          solid line style\n",
        "``'--'``         dashed line style\n",
        "``'-.'``         dash-dot line style\n",
        "``':'``          dotted line style\n",
        "=============    ===============================\n",
        "\n",
        "Example format strings::\n",
        "\n",
        "    'b'    # blue markers with default shape\n",
        "    'or'   # red circles\n",
        "    '-g'   # green solid line\n",
        "    '--'   # dashed line with default color\n",
        "    '^k:'  # black triangle_up markers connected by a dotted line\n",
        "\n",
        "**Colors**\n",
        "\n",
        "The supported color abbreviations are the single letter codes\n",
        "\n",
        "=============    ===============================\n",
        "character        color\n",
        "=============    ===============================\n",
        "``'b'``          blue\n",
        "``'g'``          green\n",
        "``'r'``          red\n",
        "``'c'``          cyan\n",
        "``'m'``          magenta\n",
        "``'y'``          yellow\n",
        "``'k'``          black\n",
        "``'w'``          white\n",
        "=============    ===============================\n",
        "\n"
      ],
      "metadata": {
        "id": "95jezhhiDubA"
      },
      "execution_count": null,
      "outputs": []
    },
    {
      "cell_type": "code",
      "source": [
        "from google.colab  import files \n",
        "uploaded = files.upload()"
      ],
      "metadata": {
        "colab": {
          "base_uri": "https://localhost:8080/",
          "height": 73
        },
        "id": "C2tImiEhFbnQ",
        "outputId": "c7c1c2db-6566-482e-9367-64a2d7218ba0"
      },
      "execution_count": null,
      "outputs": [
        {
          "output_type": "display_data",
          "data": {
            "text/plain": [
              "<IPython.core.display.HTML object>"
            ],
            "text/html": [
              "\n",
              "     <input type=\"file\" id=\"files-e65e1ab3-73cb-421f-abf4-c1f78c68b25f\" name=\"files[]\" multiple disabled\n",
              "        style=\"border:none\" />\n",
              "     <output id=\"result-e65e1ab3-73cb-421f-abf4-c1f78c68b25f\">\n",
              "      Upload widget is only available when the cell has been executed in the\n",
              "      current browser session. Please rerun this cell to enable.\n",
              "      </output>\n",
              "      <script>// Copyright 2017 Google LLC\n",
              "//\n",
              "// Licensed under the Apache License, Version 2.0 (the \"License\");\n",
              "// you may not use this file except in compliance with the License.\n",
              "// You may obtain a copy of the License at\n",
              "//\n",
              "//      http://www.apache.org/licenses/LICENSE-2.0\n",
              "//\n",
              "// Unless required by applicable law or agreed to in writing, software\n",
              "// distributed under the License is distributed on an \"AS IS\" BASIS,\n",
              "// WITHOUT WARRANTIES OR CONDITIONS OF ANY KIND, either express or implied.\n",
              "// See the License for the specific language governing permissions and\n",
              "// limitations under the License.\n",
              "\n",
              "/**\n",
              " * @fileoverview Helpers for google.colab Python module.\n",
              " */\n",
              "(function(scope) {\n",
              "function span(text, styleAttributes = {}) {\n",
              "  const element = document.createElement('span');\n",
              "  element.textContent = text;\n",
              "  for (const key of Object.keys(styleAttributes)) {\n",
              "    element.style[key] = styleAttributes[key];\n",
              "  }\n",
              "  return element;\n",
              "}\n",
              "\n",
              "// Max number of bytes which will be uploaded at a time.\n",
              "const MAX_PAYLOAD_SIZE = 100 * 1024;\n",
              "\n",
              "function _uploadFiles(inputId, outputId) {\n",
              "  const steps = uploadFilesStep(inputId, outputId);\n",
              "  const outputElement = document.getElementById(outputId);\n",
              "  // Cache steps on the outputElement to make it available for the next call\n",
              "  // to uploadFilesContinue from Python.\n",
              "  outputElement.steps = steps;\n",
              "\n",
              "  return _uploadFilesContinue(outputId);\n",
              "}\n",
              "\n",
              "// This is roughly an async generator (not supported in the browser yet),\n",
              "// where there are multiple asynchronous steps and the Python side is going\n",
              "// to poll for completion of each step.\n",
              "// This uses a Promise to block the python side on completion of each step,\n",
              "// then passes the result of the previous step as the input to the next step.\n",
              "function _uploadFilesContinue(outputId) {\n",
              "  const outputElement = document.getElementById(outputId);\n",
              "  const steps = outputElement.steps;\n",
              "\n",
              "  const next = steps.next(outputElement.lastPromiseValue);\n",
              "  return Promise.resolve(next.value.promise).then((value) => {\n",
              "    // Cache the last promise value to make it available to the next\n",
              "    // step of the generator.\n",
              "    outputElement.lastPromiseValue = value;\n",
              "    return next.value.response;\n",
              "  });\n",
              "}\n",
              "\n",
              "/**\n",
              " * Generator function which is called between each async step of the upload\n",
              " * process.\n",
              " * @param {string} inputId Element ID of the input file picker element.\n",
              " * @param {string} outputId Element ID of the output display.\n",
              " * @return {!Iterable<!Object>} Iterable of next steps.\n",
              " */\n",
              "function* uploadFilesStep(inputId, outputId) {\n",
              "  const inputElement = document.getElementById(inputId);\n",
              "  inputElement.disabled = false;\n",
              "\n",
              "  const outputElement = document.getElementById(outputId);\n",
              "  outputElement.innerHTML = '';\n",
              "\n",
              "  const pickedPromise = new Promise((resolve) => {\n",
              "    inputElement.addEventListener('change', (e) => {\n",
              "      resolve(e.target.files);\n",
              "    });\n",
              "  });\n",
              "\n",
              "  const cancel = document.createElement('button');\n",
              "  inputElement.parentElement.appendChild(cancel);\n",
              "  cancel.textContent = 'Cancel upload';\n",
              "  const cancelPromise = new Promise((resolve) => {\n",
              "    cancel.onclick = () => {\n",
              "      resolve(null);\n",
              "    };\n",
              "  });\n",
              "\n",
              "  // Wait for the user to pick the files.\n",
              "  const files = yield {\n",
              "    promise: Promise.race([pickedPromise, cancelPromise]),\n",
              "    response: {\n",
              "      action: 'starting',\n",
              "    }\n",
              "  };\n",
              "\n",
              "  cancel.remove();\n",
              "\n",
              "  // Disable the input element since further picks are not allowed.\n",
              "  inputElement.disabled = true;\n",
              "\n",
              "  if (!files) {\n",
              "    return {\n",
              "      response: {\n",
              "        action: 'complete',\n",
              "      }\n",
              "    };\n",
              "  }\n",
              "\n",
              "  for (const file of files) {\n",
              "    const li = document.createElement('li');\n",
              "    li.append(span(file.name, {fontWeight: 'bold'}));\n",
              "    li.append(span(\n",
              "        `(${file.type || 'n/a'}) - ${file.size} bytes, ` +\n",
              "        `last modified: ${\n",
              "            file.lastModifiedDate ? file.lastModifiedDate.toLocaleDateString() :\n",
              "                                    'n/a'} - `));\n",
              "    const percent = span('0% done');\n",
              "    li.appendChild(percent);\n",
              "\n",
              "    outputElement.appendChild(li);\n",
              "\n",
              "    const fileDataPromise = new Promise((resolve) => {\n",
              "      const reader = new FileReader();\n",
              "      reader.onload = (e) => {\n",
              "        resolve(e.target.result);\n",
              "      };\n",
              "      reader.readAsArrayBuffer(file);\n",
              "    });\n",
              "    // Wait for the data to be ready.\n",
              "    let fileData = yield {\n",
              "      promise: fileDataPromise,\n",
              "      response: {\n",
              "        action: 'continue',\n",
              "      }\n",
              "    };\n",
              "\n",
              "    // Use a chunked sending to avoid message size limits. See b/62115660.\n",
              "    let position = 0;\n",
              "    do {\n",
              "      const length = Math.min(fileData.byteLength - position, MAX_PAYLOAD_SIZE);\n",
              "      const chunk = new Uint8Array(fileData, position, length);\n",
              "      position += length;\n",
              "\n",
              "      const base64 = btoa(String.fromCharCode.apply(null, chunk));\n",
              "      yield {\n",
              "        response: {\n",
              "          action: 'append',\n",
              "          file: file.name,\n",
              "          data: base64,\n",
              "        },\n",
              "      };\n",
              "\n",
              "      let percentDone = fileData.byteLength === 0 ?\n",
              "          100 :\n",
              "          Math.round((position / fileData.byteLength) * 100);\n",
              "      percent.textContent = `${percentDone}% done`;\n",
              "\n",
              "    } while (position < fileData.byteLength);\n",
              "  }\n",
              "\n",
              "  // All done.\n",
              "  yield {\n",
              "    response: {\n",
              "      action: 'complete',\n",
              "    }\n",
              "  };\n",
              "}\n",
              "\n",
              "scope.google = scope.google || {};\n",
              "scope.google.colab = scope.google.colab || {};\n",
              "scope.google.colab._files = {\n",
              "  _uploadFiles,\n",
              "  _uploadFilesContinue,\n",
              "};\n",
              "})(self);\n",
              "</script> "
            ]
          },
          "metadata": {}
        },
        {
          "output_type": "stream",
          "name": "stdout",
          "text": [
            "Saving imdb.csv to imdb.csv\n"
          ]
        }
      ]
    },
    {
      "cell_type": "code",
      "source": [
        "import pandas as pd"
      ],
      "metadata": {
        "id": "OTQK0dfmGUxQ"
      },
      "execution_count": null,
      "outputs": []
    },
    {
      "cell_type": "code",
      "source": [
        "df = pd.read_csv('imdb.csv')"
      ],
      "metadata": {
        "id": "38x4VEWwGUv3"
      },
      "execution_count": null,
      "outputs": []
    },
    {
      "cell_type": "code",
      "source": [
        "df"
      ],
      "metadata": {
        "colab": {
          "base_uri": "https://localhost:8080/",
          "height": 423
        },
        "id": "d7t19knyGih9",
        "outputId": "e2319626-26fd-47f3-9ac5-993cba6af440"
      },
      "execution_count": null,
      "outputs": [
        {
          "output_type": "execute_result",
          "data": {
            "text/plain": [
              "     star_rating                                            title  \\\n",
              "0            9.3                         The Shawshank Redemption   \n",
              "1            9.2                                    The Godfather   \n",
              "2            9.1                           The Godfather: Part II   \n",
              "3            9.0                                  The Dark Knight   \n",
              "4            8.9                                     Pulp Fiction   \n",
              "..           ...                                              ...   \n",
              "974          7.4                                          Tootsie   \n",
              "975          7.4                      Back to the Future Part III   \n",
              "976          7.4  Master and Commander: The Far Side of the World   \n",
              "977          7.4                                      Poltergeist   \n",
              "978          7.4                                      Wall Street   \n",
              "\n",
              "    content_rating      genre  duration  \\\n",
              "0                R      Crime       142   \n",
              "1                R      Crime       175   \n",
              "2                R      Crime       200   \n",
              "3            PG-13     Action       152   \n",
              "4                R      Crime       154   \n",
              "..             ...        ...       ...   \n",
              "974             PG     Comedy       116   \n",
              "975             PG  Adventure       118   \n",
              "976          PG-13     Action       138   \n",
              "977             PG     Horror       114   \n",
              "978              R      Crime       126   \n",
              "\n",
              "                                           actors_list  \n",
              "0    [u'Tim Robbins', u'Morgan Freeman', u'Bob Gunt...  \n",
              "1      [u'Marlon Brando', u'Al Pacino', u'James Caan']  \n",
              "2    [u'Al Pacino', u'Robert De Niro', u'Robert Duv...  \n",
              "3    [u'Christian Bale', u'Heath Ledger', u'Aaron E...  \n",
              "4    [u'John Travolta', u'Uma Thurman', u'Samuel L....  \n",
              "..                                                 ...  \n",
              "974  [u'Dustin Hoffman', u'Jessica Lange', u'Teri G...  \n",
              "975  [u'Michael J. Fox', u'Christopher Lloyd', u'Ma...  \n",
              "976  [u'Russell Crowe', u'Paul Bettany', u'Billy Bo...  \n",
              "977  [u'JoBeth Williams', u\"Heather O'Rourke\", u'Cr...  \n",
              "978  [u'Charlie Sheen', u'Michael Douglas', u'Tamar...  \n",
              "\n",
              "[979 rows x 6 columns]"
            ],
            "text/html": [
              "\n",
              "  <div id=\"df-1ac5b3b7-6f48-4a15-8845-913971d506ac\">\n",
              "    <div class=\"colab-df-container\">\n",
              "      <div>\n",
              "<style scoped>\n",
              "    .dataframe tbody tr th:only-of-type {\n",
              "        vertical-align: middle;\n",
              "    }\n",
              "\n",
              "    .dataframe tbody tr th {\n",
              "        vertical-align: top;\n",
              "    }\n",
              "\n",
              "    .dataframe thead th {\n",
              "        text-align: right;\n",
              "    }\n",
              "</style>\n",
              "<table border=\"1\" class=\"dataframe\">\n",
              "  <thead>\n",
              "    <tr style=\"text-align: right;\">\n",
              "      <th></th>\n",
              "      <th>star_rating</th>\n",
              "      <th>title</th>\n",
              "      <th>content_rating</th>\n",
              "      <th>genre</th>\n",
              "      <th>duration</th>\n",
              "      <th>actors_list</th>\n",
              "    </tr>\n",
              "  </thead>\n",
              "  <tbody>\n",
              "    <tr>\n",
              "      <th>0</th>\n",
              "      <td>9.3</td>\n",
              "      <td>The Shawshank Redemption</td>\n",
              "      <td>R</td>\n",
              "      <td>Crime</td>\n",
              "      <td>142</td>\n",
              "      <td>[u'Tim Robbins', u'Morgan Freeman', u'Bob Gunt...</td>\n",
              "    </tr>\n",
              "    <tr>\n",
              "      <th>1</th>\n",
              "      <td>9.2</td>\n",
              "      <td>The Godfather</td>\n",
              "      <td>R</td>\n",
              "      <td>Crime</td>\n",
              "      <td>175</td>\n",
              "      <td>[u'Marlon Brando', u'Al Pacino', u'James Caan']</td>\n",
              "    </tr>\n",
              "    <tr>\n",
              "      <th>2</th>\n",
              "      <td>9.1</td>\n",
              "      <td>The Godfather: Part II</td>\n",
              "      <td>R</td>\n",
              "      <td>Crime</td>\n",
              "      <td>200</td>\n",
              "      <td>[u'Al Pacino', u'Robert De Niro', u'Robert Duv...</td>\n",
              "    </tr>\n",
              "    <tr>\n",
              "      <th>3</th>\n",
              "      <td>9.0</td>\n",
              "      <td>The Dark Knight</td>\n",
              "      <td>PG-13</td>\n",
              "      <td>Action</td>\n",
              "      <td>152</td>\n",
              "      <td>[u'Christian Bale', u'Heath Ledger', u'Aaron E...</td>\n",
              "    </tr>\n",
              "    <tr>\n",
              "      <th>4</th>\n",
              "      <td>8.9</td>\n",
              "      <td>Pulp Fiction</td>\n",
              "      <td>R</td>\n",
              "      <td>Crime</td>\n",
              "      <td>154</td>\n",
              "      <td>[u'John Travolta', u'Uma Thurman', u'Samuel L....</td>\n",
              "    </tr>\n",
              "    <tr>\n",
              "      <th>...</th>\n",
              "      <td>...</td>\n",
              "      <td>...</td>\n",
              "      <td>...</td>\n",
              "      <td>...</td>\n",
              "      <td>...</td>\n",
              "      <td>...</td>\n",
              "    </tr>\n",
              "    <tr>\n",
              "      <th>974</th>\n",
              "      <td>7.4</td>\n",
              "      <td>Tootsie</td>\n",
              "      <td>PG</td>\n",
              "      <td>Comedy</td>\n",
              "      <td>116</td>\n",
              "      <td>[u'Dustin Hoffman', u'Jessica Lange', u'Teri G...</td>\n",
              "    </tr>\n",
              "    <tr>\n",
              "      <th>975</th>\n",
              "      <td>7.4</td>\n",
              "      <td>Back to the Future Part III</td>\n",
              "      <td>PG</td>\n",
              "      <td>Adventure</td>\n",
              "      <td>118</td>\n",
              "      <td>[u'Michael J. Fox', u'Christopher Lloyd', u'Ma...</td>\n",
              "    </tr>\n",
              "    <tr>\n",
              "      <th>976</th>\n",
              "      <td>7.4</td>\n",
              "      <td>Master and Commander: The Far Side of the World</td>\n",
              "      <td>PG-13</td>\n",
              "      <td>Action</td>\n",
              "      <td>138</td>\n",
              "      <td>[u'Russell Crowe', u'Paul Bettany', u'Billy Bo...</td>\n",
              "    </tr>\n",
              "    <tr>\n",
              "      <th>977</th>\n",
              "      <td>7.4</td>\n",
              "      <td>Poltergeist</td>\n",
              "      <td>PG</td>\n",
              "      <td>Horror</td>\n",
              "      <td>114</td>\n",
              "      <td>[u'JoBeth Williams', u\"Heather O'Rourke\", u'Cr...</td>\n",
              "    </tr>\n",
              "    <tr>\n",
              "      <th>978</th>\n",
              "      <td>7.4</td>\n",
              "      <td>Wall Street</td>\n",
              "      <td>R</td>\n",
              "      <td>Crime</td>\n",
              "      <td>126</td>\n",
              "      <td>[u'Charlie Sheen', u'Michael Douglas', u'Tamar...</td>\n",
              "    </tr>\n",
              "  </tbody>\n",
              "</table>\n",
              "<p>979 rows × 6 columns</p>\n",
              "</div>\n",
              "      <button class=\"colab-df-convert\" onclick=\"convertToInteractive('df-1ac5b3b7-6f48-4a15-8845-913971d506ac')\"\n",
              "              title=\"Convert this dataframe to an interactive table.\"\n",
              "              style=\"display:none;\">\n",
              "        \n",
              "  <svg xmlns=\"http://www.w3.org/2000/svg\" height=\"24px\"viewBox=\"0 0 24 24\"\n",
              "       width=\"24px\">\n",
              "    <path d=\"M0 0h24v24H0V0z\" fill=\"none\"/>\n",
              "    <path d=\"M18.56 5.44l.94 2.06.94-2.06 2.06-.94-2.06-.94-.94-2.06-.94 2.06-2.06.94zm-11 1L8.5 8.5l.94-2.06 2.06-.94-2.06-.94L8.5 2.5l-.94 2.06-2.06.94zm10 10l.94 2.06.94-2.06 2.06-.94-2.06-.94-.94-2.06-.94 2.06-2.06.94z\"/><path d=\"M17.41 7.96l-1.37-1.37c-.4-.4-.92-.59-1.43-.59-.52 0-1.04.2-1.43.59L10.3 9.45l-7.72 7.72c-.78.78-.78 2.05 0 2.83L4 21.41c.39.39.9.59 1.41.59.51 0 1.02-.2 1.41-.59l7.78-7.78 2.81-2.81c.8-.78.8-2.07 0-2.86zM5.41 20L4 18.59l7.72-7.72 1.47 1.35L5.41 20z\"/>\n",
              "  </svg>\n",
              "      </button>\n",
              "      \n",
              "  <style>\n",
              "    .colab-df-container {\n",
              "      display:flex;\n",
              "      flex-wrap:wrap;\n",
              "      gap: 12px;\n",
              "    }\n",
              "\n",
              "    .colab-df-convert {\n",
              "      background-color: #E8F0FE;\n",
              "      border: none;\n",
              "      border-radius: 50%;\n",
              "      cursor: pointer;\n",
              "      display: none;\n",
              "      fill: #1967D2;\n",
              "      height: 32px;\n",
              "      padding: 0 0 0 0;\n",
              "      width: 32px;\n",
              "    }\n",
              "\n",
              "    .colab-df-convert:hover {\n",
              "      background-color: #E2EBFA;\n",
              "      box-shadow: 0px 1px 2px rgba(60, 64, 67, 0.3), 0px 1px 3px 1px rgba(60, 64, 67, 0.15);\n",
              "      fill: #174EA6;\n",
              "    }\n",
              "\n",
              "    [theme=dark] .colab-df-convert {\n",
              "      background-color: #3B4455;\n",
              "      fill: #D2E3FC;\n",
              "    }\n",
              "\n",
              "    [theme=dark] .colab-df-convert:hover {\n",
              "      background-color: #434B5C;\n",
              "      box-shadow: 0px 1px 3px 1px rgba(0, 0, 0, 0.15);\n",
              "      filter: drop-shadow(0px 1px 2px rgba(0, 0, 0, 0.3));\n",
              "      fill: #FFFFFF;\n",
              "    }\n",
              "  </style>\n",
              "\n",
              "      <script>\n",
              "        const buttonEl =\n",
              "          document.querySelector('#df-1ac5b3b7-6f48-4a15-8845-913971d506ac button.colab-df-convert');\n",
              "        buttonEl.style.display =\n",
              "          google.colab.kernel.accessAllowed ? 'block' : 'none';\n",
              "\n",
              "        async function convertToInteractive(key) {\n",
              "          const element = document.querySelector('#df-1ac5b3b7-6f48-4a15-8845-913971d506ac');\n",
              "          const dataTable =\n",
              "            await google.colab.kernel.invokeFunction('convertToInteractive',\n",
              "                                                     [key], {});\n",
              "          if (!dataTable) return;\n",
              "\n",
              "          const docLinkHtml = 'Like what you see? Visit the ' +\n",
              "            '<a target=\"_blank\" href=https://colab.research.google.com/notebooks/data_table.ipynb>data table notebook</a>'\n",
              "            + ' to learn more about interactive tables.';\n",
              "          element.innerHTML = '';\n",
              "          dataTable['output_type'] = 'display_data';\n",
              "          await google.colab.output.renderOutput(dataTable, element);\n",
              "          const docLink = document.createElement('div');\n",
              "          docLink.innerHTML = docLinkHtml;\n",
              "          element.appendChild(docLink);\n",
              "        }\n",
              "      </script>\n",
              "    </div>\n",
              "  </div>\n",
              "  "
            ]
          },
          "metadata": {},
          "execution_count": 40
        }
      ]
    },
    {
      "cell_type": "code",
      "source": [
        "# plot function use the plotting the data \n",
        "plt.plot(df['star_rating'],df['duration'],'b*',markersize = 5)\n",
        "plt.xlabel('star_rating')\n",
        "plt.ylabel('duration')\n",
        "plt.title('star_rating vs duration')"
      ],
      "metadata": {
        "colab": {
          "base_uri": "https://localhost:8080/",
          "height": 313
        },
        "id": "Gd8Yku3aGl88",
        "outputId": "9b466f0a-02ee-46b0-d9c1-d2100e5b7627"
      },
      "execution_count": null,
      "outputs": [
        {
          "output_type": "execute_result",
          "data": {
            "text/plain": [
              "Text(0.5, 1.0, 'star_rating vs duration')"
            ]
          },
          "metadata": {},
          "execution_count": 45
        },
        {
          "output_type": "display_data",
          "data": {
            "text/plain": [
              "<Figure size 432x288 with 1 Axes>"
            ],
            "image/png": "[encoded data removed]"
          },
          "metadata": {
            "needs_background": "light"
          }
        }
      ]
    },
    {
      "cell_type": "code",
      "source": [
        "plt.plot(df['star_rating'],df['duration'],'g^',markersize =6)\n",
        "plt.xlabel('star_rating')\n",
        "plt.ylabel('duration')\n",
        "plt.title('star_rating vs duration')"
      ],
      "metadata": {
        "colab": {
          "base_uri": "https://localhost:8080/",
          "height": 313
        },
        "id": "YELXtYu0K8l9",
        "outputId": "15e56ad9-6408-4365-9a7c-ac57fcef2893"
      },
      "execution_count": null,
      "outputs": [
        {
          "output_type": "execute_result",
          "data": {
            "text/plain": [
              "Text(0.5, 1.0, 'star_rating vs duration')"
            ]
          },
          "metadata": {},
          "execution_count": 65
        },
        {
          "output_type": "display_data",
          "data": {
            "text/plain": [
              "<Figure size 432x288 with 1 Axes>"
            ],
            "image/png": "[encoded data removed]"
          },
          "metadata": {
            "needs_background": "light"
          }
        }
      ]
    },
    {
      "cell_type": "code",
      "source": [
        "plt.plot(x,y,'bo',linestyle ='solid',linewidth = '2',markersize = 5)"
      ],
      "metadata": {
        "colab": {
          "base_uri": "https://localhost:8080/",
          "height": 282
        },
        "id": "dS4V1j3ANtoZ",
        "outputId": "e3af1064-94b1-4b1c-b59c-e9b6b976ec9b"
      },
      "execution_count": null,
      "outputs": [
        {
          "output_type": "execute_result",
          "data": {
            "text/plain": [
              "[<matplotlib.lines.Line2D at 0x7f62de8f5520>]"
            ]
          },
          "metadata": {},
          "execution_count": 75
        },
        {
          "output_type": "display_data",
          "data": {
            "text/plain": [
              "<Figure size 432x288 with 1 Axes>"
            ],
            "image/png": "[encoded data removed]"
          },
          "metadata": {
            "needs_background": "light"
          }
        }
      ]
    },
    {
      "cell_type": "code",
      "source": [
        "x = np.random.randint(0,10,5)\n",
        "y = np.random.randint(0,10,5)\n",
        "plt.plot(x,y,'-b*',mfc =\"red\",mec = 'g',markersize = 10)\n",
        "plt.xlabel('''sales\n",
        "*\n",
        "Note: c1-c2-c3 indicates the position: long 2 times c2 and short c1 anc c3''')"
      ],
      "metadata": {
        "colab": {
          "base_uri": "https://localhost:8080/",
          "height": 320
        },
        "id": "Jw9vf3HgPrlc",
        "outputId": "74d1a2d8-9e93-4cff-9fca-32c3a7bcbace"
      },
      "execution_count": null,
      "outputs": [
        {
          "output_type": "execute_result",
          "data": {
            "text/plain": [
              "Text(0.5, 0, 'sales\\n*\\nNote: c1-c2-c3 indicates the position: long 2 times c2 and short c1 anc c3')"
            ]
          },
          "metadata": {},
          "execution_count": 76
        },
        {
          "output_type": "display_data",
          "data": {
            "text/plain": [
              "<Figure size 432x288 with 1 Axes>"
            ],
            "image/png": "[encoded data removed]"
          },
          "metadata": {
            "needs_background": "light"
          }
        }
      ]
    },
    {
      "cell_type": "code",
      "source": [
        "plt.plot?"
      ],
      "metadata": {
        "id": "ksUFWjCoYY4a"
      },
      "execution_count": null,
      "outputs": []
    },
    {
      "cell_type": "code",
      "source": [
        "# mfc = market face colour \n",
        "# mec = market redge colour"
      ],
      "metadata": {
        "id": "ly-WZrDLY5Ct"
      },
      "execution_count": null,
      "outputs": []
    },
    {
      "cell_type": "code",
      "source": [
        "#https://matplotlib.org/stable/api/_as_gen/matplotlib.pyplot.plot.html     best useful website\n"
      ],
      "metadata": {
        "id": "kVZTDYr6aIbz"
      },
      "execution_count": null,
      "outputs": []
    },
    {
      "cell_type": "code",
      "source": [
        "# creating the subplot\n",
        "\n",
        "x1 = np.arange(0,5)\n",
        "y1 = np.arange(50,55)\n",
        "\n",
        "plt.subplot(2,2,1)\n",
        "plt.plot(x1,y1,'r-')\n",
        "plt.xlabel('star_rating')\n",
        "plt.ylabel('duration')\n",
        "plt.title('star_rating vs duration')\n",
        "\n",
        "y2 = x1*x1\n",
        "plt.subplot(2,2,2)\n",
        "plt.plot(x1,y1,'b-')\n",
        "\n",
        "x3 = np.arange(100,200,2)\n",
        "y3 = np.arange(500,550)\n",
        "\n",
        "plt.subplot(2,2,3)\n",
        "plt.plot(x3,y3,'c-')\n",
        "\n",
        "plt.subplot(2,2,4)\n",
        "plt.plot(x,y,'y*')"
      ],
      "metadata": {
        "colab": {
          "base_uri": "https://localhost:8080/",
          "height": 298
        },
        "id": "mXhW7HKBaU27",
        "outputId": "a5d31f10-eeee-476a-bd9c-206b052d9443"
      },
      "execution_count": null,
      "outputs": [
        {
          "output_type": "execute_result",
          "data": {
            "text/plain": [
              "[<matplotlib.lines.Line2D at 0x7f62de3f1640>]"
            ]
          },
          "metadata": {},
          "execution_count": 84
        },
        {
          "output_type": "display_data",
          "data": {
            "text/plain": [
              "<Figure size 432x288 with 4 Axes>"
            ],
            "image/png": "[encoded data removed]"
          },
          "metadata": {
            "needs_background": "light"
          }
        }
      ]
    },
    {
      "cell_type": "code",
      "source": [
        "x1 = np.arange(10,20)\n",
        "y1 = np.arange(20,30)\n",
        "\n",
        "plt.subplot(2,2,1)\n",
        "plt.plot(x1,y1,'r-')\n",
        "plt.xlabel('rating')\n",
        "plt.ylabel('prices')\n",
        "\n",
        "x2 = np.arange(30,40)\n",
        "y2 = np.arange(40,50)\n",
        "\n",
        "plt.subplot(2,2,2)\n",
        "plt.plot(x2,y2,'y-')\n",
        "plt.xlabel('rating')\n",
        "plt.ylabel('prices')\n",
        "\n",
        "x3 = np.arange(50,60)\n",
        "y3 = np.arange(60,70)\n",
        "\n",
        "plt.subplot(2,2,3)\n",
        "plt.plot(x3,y3,'c-')\n",
        "plt.xlabel('rating')\n",
        "plt.ylabel('prices')\n",
        "\n",
        "\n",
        "x4 = np.arange(70,80)\n",
        "y4 = np.arange(80,90)\n",
        "\n",
        "plt.subplot(2,2,4)\n",
        "plt.plot(x4,y4,'b*')\n",
        "plt.xlabel('rating')\n",
        "plt.ylabel('prices')"
      ],
      "metadata": {
        "colab": {
          "base_uri": "https://localhost:8080/",
          "height": 296
        },
        "id": "SsEBbAHKe58d",
        "outputId": "3ff615de-4e80-4c3f-f6fd-9943172154dc"
      },
      "execution_count": null,
      "outputs": [
        {
          "output_type": "execute_result",
          "data": {
            "text/plain": [
              "Text(0, 0.5, 'prices')"
            ]
          },
          "metadata": {},
          "execution_count": 89
        },
        {
          "output_type": "display_data",
          "data": {
            "text/plain": [
              "<Figure size 432x288 with 4 Axes>"
            ],
            "image/png": "[encoded data removed]"
          },
          "metadata": {
            "needs_background": "light"
          }
        }
      ]
    },
    {
      "cell_type": "code",
      "source": [
        "x = np.arange(0,4*np.pi,0.1)\n",
        "y = np.sin(x)\n",
        "plt.plot(x,y)"
      ],
      "metadata": {
        "colab": {
          "base_uri": "https://localhost:8080/",
          "height": 282
        },
        "id": "pAEPweLmicgA",
        "outputId": "d8612a40-f497-4efa-c343-4198d65e14a5"
      },
      "execution_count": null,
      "outputs": [
        {
          "output_type": "execute_result",
          "data": {
            "text/plain": [
              "[<matplotlib.lines.Line2D at 0x7f62de507dc0>]"
            ]
          },
          "metadata": {},
          "execution_count": 87
        },
        {
          "output_type": "display_data",
          "data": {
            "text/plain": [
              "<Figure size 432x288 with 1 Axes>"
            ],
            "image/png": "[encoded data removed]"
          },
          "metadata": {
            "needs_background": "light"
          }
        }
      ]
    },
    {
      "cell_type": "code",
      "source": [
        "y"
      ],
      "metadata": {
        "colab": {
          "base_uri": "https://localhost:8080/"
        },
        "id": "aDX3YB_XlBbs",
        "outputId": "7352995f-6af3-4f9d-f439-5881cbc88a05"
      },
      "execution_count": null,
      "outputs": [
        {
          "output_type": "execute_result",
          "data": {
            "text/plain": [
              "array([ 0.90929743,  0.8084964 ,  0.67546318,  0.51550137,  0.33498815,\n",
              "        0.14112001, -0.05837414, -0.2555411 , -0.44252044, -0.61185789,\n",
              "       -0.7568025 , -0.87157577, -0.95160207, -0.993691  , -0.99616461,\n",
              "       -0.95892427, -0.88345466, -0.77276449, -0.63126664, -0.46460218,\n",
              "       -0.2794155 , -0.0830894 ,  0.1165492 ,  0.31154136,  0.49411335,\n",
              "        0.6569866 ,  0.79366786,  0.8987081 ,  0.96791967,  0.99854335,\n",
              "        0.98935825,  0.94073056,  0.85459891,  0.7343971 ,  0.58491719,\n",
              "        0.41211849,  0.22288991,  0.02477543, -0.17432678, -0.36647913,\n",
              "       -0.54402111, -0.69987469, -0.82782647, -0.92277542, -0.98093623,\n",
              "       -0.99999021, -0.97917773, -0.91932853, -0.82282859, -0.69352508,\n",
              "       -0.53657292, -0.35822928, -0.16560418,  0.03362305,  0.23150983,\n",
              "        0.42016704,  0.59207351,  0.74037589,  0.85916181,  0.94369567,\n",
              "        0.99060736,  0.99802665,  0.96565778,  0.89479117,  0.78825207,\n",
              "        0.65028784,  0.48639869,  0.30311836,  0.10775365, -0.09190685,\n",
              "       -0.28790332, -0.47242199, -0.63810668, -0.77835208, -0.88756703,\n",
              "       -0.96139749, -0.99690007, -0.99265938, -0.9488445 , -0.86720218,\n",
              "       -0.75098725, -0.60483282, -0.43456562, -0.24697366, -0.04953564,\n",
              "        0.14987721,  0.34331493,  0.52306577,  0.68196362,  0.81367374,\n",
              "        0.91294525,  0.97582052,  0.9997929 ,  0.98390669,  0.92879523,\n",
              "        0.83665564,  0.71116122,  0.55731505,  0.38125049,  0.18998668,\n",
              "       -0.00885131, -0.20733642, -0.39755568, -0.57192566, -0.72349476,\n",
              "       -0.8462204 , -0.93520992, -0.98691556, -0.99927599, -0.97179845,\n",
              "       -0.90557836, -0.80325573, -0.66890982, -0.50789659, -0.32663513,\n",
              "       -0.13235175,  0.06720807,  0.26408852,  0.45044059,  0.61883502,\n",
              "        0.76255845,  0.87588108,  0.95428509,  0.99464477,  0.9953511 ,\n",
              "        0.95637593,  0.87927306,  0.76711635,  0.62437714,  0.45674597,\n",
              "        0.27090579,  0.07426545, -0.12533563, -0.31993996, -0.5017893 ,\n",
              "       -0.66363388, -0.79902148, -0.90255461, -0.97010573, -0.9989818 ,\n",
              "       -0.98803162, -0.93769174, -0.84996905, -0.72836077, -0.57771504,\n",
              "       -0.40403765, -0.21425254, -0.01592586])"
            ]
          },
          "metadata": {},
          "execution_count": 90
        }
      ]
    },
    {
      "cell_type": "code",
      "source": [
        "import numpy as np"
      ],
      "metadata": {
        "id": "7dvDRj9Do1Qb"
      },
      "execution_count": null,
      "outputs": []
    },
    {
      "cell_type": "code",
      "source": [
        "# pi value is in numpy \n",
        "np.pi"
      ],
      "metadata": {
        "colab": {
          "base_uri": "https://localhost:8080/"
        },
        "id": "Ml0tzYDOo6AS",
        "outputId": "afdcc141-c7f8-4324-a2e4-1378b44b48d9"
      },
      "execution_count": null,
      "outputs": [
        {
          "output_type": "execute_result",
          "data": {
            "text/plain": [
              "3.141592653589793"
            ]
          },
          "metadata": {},
          "execution_count": 93
        }
      ]
    },
    {
      "cell_type": "code",
      "source": [
        "x = np.arange(2,10*np.pi,0.2)\n",
        "y = np.sin(x)\n",
        "plt.plot(x,y)"
      ],
      "metadata": {
        "colab": {
          "base_uri": "https://localhost:8080/",
          "height": 282
        },
        "id": "oCsz_V-ri5RN",
        "outputId": "e0c83ba0-7e87-4984-9f45-57e1471b600e"
      },
      "execution_count": null,
      "outputs": [
        {
          "output_type": "execute_result",
          "data": {
            "text/plain": [
              "[<matplotlib.lines.Line2D at 0x7f62dfdcc4f0>]"
            ]
          },
          "metadata": {},
          "execution_count": 88
        },
        {
          "output_type": "display_data",
          "data": {
            "text/plain": [
              "<Figure size 432x288 with 1 Axes>"
            ],
            "image/png": "[encoded data removed]"
          },
          "metadata": {
            "needs_background": "light"
          }
        }
      ]
    },
    {
      "cell_type": "code",
      "source": [
        "x = np.arange(0,5*np.pi,0.1)\n",
        "y_sin = np.sin(x)\n",
        "y_cos = np.cos(x)\n",
        "\n",
        "\n",
        "plt.subplot(1,2,1)\n",
        "plt.plot(x,y_sin,'r-')\n",
        "plt.title('sine')\n",
        "\n",
        "plt.subplot(1,2,2)\n",
        "plt.plot(x,y_cos,'g--')\n",
        "plt.title('cos')"
      ],
      "metadata": {
        "colab": {
          "base_uri": "https://localhost:8080/",
          "height": 298
        },
        "id": "N6JUr2IokvSV",
        "outputId": "3e9b2f49-c1b0-4fad-be3a-e5b4f87e420c"
      },
      "execution_count": null,
      "outputs": [
        {
          "output_type": "execute_result",
          "data": {
            "text/plain": [
              "Text(0.5, 1.0, 'cos')"
            ]
          },
          "metadata": {},
          "execution_count": 91
        },
        {
          "output_type": "display_data",
          "data": {
            "text/plain": [
              "<Figure size 432x288 with 2 Axes>"
            ],
            "image/png": "[encoded data removed]"
          },
          "metadata": {
            "needs_background": "light"
          }
        }
      ]
    },
    {
      "cell_type": "code",
      "source": [
        "import matplotlib.pyplot as plt"
      ],
      "metadata": {
        "id": "GQ1TiYQMRLJ2"
      },
      "execution_count": null,
      "outputs": []
    },
    {
      "cell_type": "code",
      "source": [
        "# bar chart \n",
        "x = [10,20,30]\n",
        "y = [5,10,15]\n",
        "\n",
        "plt.bar(x,y)\n",
        "plt.title('bar chart')\n",
        "plt.xlabel('x axis')\n",
        "plt.ylabel('y axis')\n",
        "plt.show()"
      ],
      "metadata": {
        "id": "7jfUCJM1ngv5",
        "colab": {
          "base_uri": "https://localhost:8080/",
          "height": 295
        },
        "outputId": "b5cacf35-f0e0-4972-dee7-4d440771bc8d"
      },
      "execution_count": null,
      "outputs": [
        {
          "output_type": "display_data",
          "data": {
            "text/plain": [
              "<Figure size 432x288 with 1 Axes>"
            ],
            "image/png": "[encoded data removed]"
          },
          "metadata": {
            "needs_background": "light"
          }
        }
      ]
    },
    {
      "cell_type": "code",
      "source": [
        "x = [10,20,30]\n",
        "y = [5,10,15]\n",
        "\n",
        "\n",
        "x1 = [25,35,40]\n",
        "y1 = [10,15,20]\n",
        "\n",
        "\n",
        "plt.bar(x,y)\n",
        "plt.bar(x1,y1,color = \"g\")\n",
        "plt.title('bar chart')\n",
        "plt.xlabel(\"x axis\")\n",
        "plt.ylabel(\"y axis\")\n",
        "plt.show()"
      ],
      "metadata": {
        "id": "QCE2rL-ISRIQ",
        "colab": {
          "base_uri": "https://localhost:8080/",
          "height": 295
        },
        "outputId": "1e2234f3-020f-4950-ec36-e05daf419518"
      },
      "execution_count": null,
      "outputs": [
        {
          "output_type": "display_data",
          "data": {
            "text/plain": [
              "<Figure size 432x288 with 1 Axes>"
            ],
            "image/png": "[encoded data removed]"
          },
          "metadata": {
            "needs_background": "light"
          }
        }
      ]
    },
    {
      "cell_type": "code",
      "source": [
        "x = [5,10,15]\n",
        "y = [10,20,30]\n",
        "\n",
        "x1 = [10,20,30]\n",
        "y1 = [10,20,30]\n",
        "\n",
        "plt.bar(x,y)\n",
        "plt.bar(x1,y1,color=\"g\")\n",
        "plt.title('bar chart')\n",
        "plt.xlabel('x axis')\n",
        "plt.ylabel('y axis')\n",
        "plt.show()"
      ],
      "metadata": {
        "colab": {
          "base_uri": "https://localhost:8080/",
          "height": 295
        },
        "id": "eSPG6R0bjT4o",
        "outputId": "488fd31a-18a7-4356-e0ca-f9553c1ccff9"
      },
      "execution_count": null,
      "outputs": [
        {
          "output_type": "display_data",
          "data": {
            "text/plain": [
              "<Figure size 432x288 with 1 Axes>"
            ],
            "image/png": "[encoded data removed]"
          },
          "metadata": {
            "needs_background": "light"
          }
        }
      ]
    },
    {
      "cell_type": "code",
      "source": [
        "x = [5,10,15]\n",
        "y = [10,20,30]\n",
        "\n",
        "plt.bar(x,y)\n",
        "plt.plot(x,y,linestyle ='solid')\n",
        "plt.title('bar chart')\n",
        "plt.xlabel('x axis')\n",
        "plt.ylabel('y axis')\n",
        "plt.show"
      ],
      "metadata": {
        "colab": {
          "base_uri": "https://localhost:8080/",
          "height": 313
        },
        "id": "m-nfS1GAkN_3",
        "outputId": "e2443445-26e5-4d22-b4c0-db1eb1c3ef67"
      },
      "execution_count": null,
      "outputs": [
        {
          "output_type": "execute_result",
          "data": {
            "text/plain": [
              "<function matplotlib.pyplot.show(*args, **kw)>"
            ]
          },
          "metadata": {},
          "execution_count": 9
        },
        {
          "output_type": "display_data",
          "data": {
            "text/plain": [
              "<Figure size 432x288 with 1 Axes>"
            ],
            "image/png": "[encoded data removed]"
          },
          "metadata": {
            "needs_background": "light"
          }
        }
      ]
    },
    {
      "cell_type": "code",
      "source": [
        "import numpy as np"
      ],
      "metadata": {
        "id": "jcF_8DR7lIhF"
      },
      "execution_count": null,
      "outputs": []
    },
    {
      "cell_type": "code",
      "source": [
        "plt.hist?"
      ],
      "metadata": {
        "id": "hrCKaHl_lQLi"
      },
      "execution_count": null,
      "outputs": []
    },
    {
      "cell_type": "code",
      "source": [
        "# bins 5 means take a 5 portion\n",
        "# y otomatic value 10 uner value 3 so 3 y,under 20 value in 5 values so y 5,\n",
        " a = np.array([1, 2 ,3, 12, 15, 22, 23, 24, 26, 29, 32, 38, 45, 48, 42])\n",
        "plt.hist(a,bins= 5)   # how many portions on the x axis \n",
        "plt.title('histrogram')\n",
        "plt.show()"
      ],
      "metadata": {
        "colab": {
          "base_uri": "https://localhost:8080/",
          "height": 281
        },
        "id": "dv2HyGYwmQG1",
        "outputId": "31214b30-ddf2-4db6-9af8-2ab13e4d9f01"
      },
      "execution_count": null,
      "outputs": [
        {
          "output_type": "display_data",
          "data": {
            "text/plain": [
              "<Figure size 432x288 with 1 Axes>"
            ],
            "image/png": "[encoded data removed]"
          },
          "metadata": {
            "needs_background": "light"
          }
        }
      ]
    },
    {
      "cell_type": "code",
      "source": [
        "#bins :\toptional parameter contains integer or sequence or strings"
      ],
      "metadata": {
        "id": "ZDOox5RBpP-n"
      },
      "execution_count": null,
      "outputs": []
    },
    {
      "cell_type": "code",
      "source": [
        "a = np.array([1, 2 ,3, 12, 15, 22, 23, 24, 26, 29, 32, 38, 45, 48, 42])\n",
        "plt.hist(a,bins=12)\n",
        "plt.title(\"histogram\")\n",
        "plt.show()"
      ],
      "metadata": {
        "colab": {
          "base_uri": "https://localhost:8080/",
          "height": 281
        },
        "id": "z8219K07q34b",
        "outputId": "11648dc5-2c12-47eb-f688-4385a9bb908d"
      },
      "execution_count": null,
      "outputs": [
        {
          "output_type": "display_data",
          "data": {
            "text/plain": [
              "<Figure size 432x288 with 1 Axes>"
            ],
            "image/png": "[encoded data removed]"
          },
          "metadata": {
            "needs_background": "light"
          }
        }
      ]
    },
    {
      "cell_type": "code",
      "source": [
        "data =[np.random.normal(0,std,50)for std in range(1,4)]\n",
        "data"
      ],
      "metadata": {
        "colab": {
          "base_uri": "https://localhost:8080/"
        },
        "id": "buoMBb10rn6F",
        "outputId": "5af6bfc3-fc2a-4719-bcf6-b417c5f2396c"
      },
      "execution_count": null,
      "outputs": [
        {
          "output_type": "execute_result",
          "data": {
            "text/plain": [
              "[array([ 0.22009977,  2.63346104,  0.24014106, -1.6147167 ,  1.03664165,\n",
              "         0.8080341 , -0.42962357,  1.32676725,  0.18895467, -0.77230161,\n",
              "         0.82383519,  0.72228795, -0.54410126,  0.11173858,  0.1710676 ,\n",
              "        -0.4376804 , -0.19860822,  0.56767638, -0.89388937, -1.47808795,\n",
              "        -1.50257255, -0.19082392,  0.66008476, -0.69351455, -0.15552403,\n",
              "        -0.40966929, -0.51557785,  0.74230998,  0.85083118,  0.35602624,\n",
              "         0.11717437, -1.15270666, -2.43581265, -0.96485774,  0.62502903,\n",
              "        -1.7663749 , -0.3788762 , -0.60141868, -0.25043092, -0.81181356,\n",
              "         0.78810462,  0.07810446, -0.28362979, -0.55233859,  0.60052191,\n",
              "        -0.19992678,  0.97766394, -1.84479696, -0.4546263 ,  1.29981736]),\n",
              " array([ 1.07874043,  0.08748875,  1.41066172,  2.6073054 ,  0.95692977,\n",
              "         0.10440789,  1.96900355,  1.44919157, -3.08833608, -0.01764318,\n",
              "        -0.753594  ,  0.52263339,  1.52849476, -0.65256766,  1.37520069,\n",
              "         2.0672567 , -2.59894635,  0.51574315,  5.08751827, -0.6166149 ,\n",
              "         2.49239622,  0.42719781,  0.01145448,  0.49840432,  0.44682368,\n",
              "         1.12344275,  4.90331287, -1.69315784, -2.88525395, -1.51910764,\n",
              "         0.02242165, -1.43934464, -3.65840728, -3.36396021,  2.30256069,\n",
              "        -3.75758332, -3.40095439,  0.18347463, -1.51226142, -0.15594121,\n",
              "         1.85232933, -0.67215356, -1.7620506 , -0.44441675,  1.80332625,\n",
              "         5.12841004, -0.17119236,  0.97132547, -1.13431148, -2.99819359]),\n",
              " array([ 3.30628152, -4.62537381, -1.81574118, -4.7324164 , -1.38489175,\n",
              "        -1.31347668, -2.77686235, -6.33286972,  0.82814542, -3.51191992,\n",
              "        -1.6380125 ,  8.03200123, -4.71592745,  7.8193406 , -0.60462022,\n",
              "        -2.77196732, -5.4491723 , -0.47797879,  1.47127099,  1.69700225,\n",
              "         3.91753443, -2.68698515,  1.52047081, -2.60736417,  2.53988798,\n",
              "         2.40085604, -0.55640586, -1.53131427,  2.59285357, -2.24407808,\n",
              "         1.56909944,  3.42630192, -0.06573877, -4.71854583,  1.54879301,\n",
              "        -4.88369923,  1.87568617, -4.42002841,  1.29727952, -3.97249923,\n",
              "        -4.2136071 , -0.40636955, -5.05564579,  1.29599443,  0.15791818,\n",
              "         2.42984214, -0.5333184 , -1.79882279,  0.73488472,  4.7999516 ])]"
            ]
          },
          "metadata": {},
          "execution_count": 19
        }
      ]
    },
    {
      "cell_type": "code",
      "source": [
        "plt.boxplot(data)"
      ],
      "metadata": {
        "colab": {
          "base_uri": "https://localhost:8080/",
          "height": 663
        },
        "id": "Bkc88qbTtQ8B",
        "outputId": "074d4a9c-17cd-4a2b-9c85-d428ad521a9c"
      },
      "execution_count": null,
      "outputs": [
        {
          "output_type": "execute_result",
          "data": {
            "text/plain": [
              "{'whiskers': [<matplotlib.lines.Line2D at 0x7f8b7517fc10>,\n",
              "  <matplotlib.lines.Line2D at 0x7f8b7517fa90>,\n",
              "  <matplotlib.lines.Line2D at 0x7f8b751e5d00>,\n",
              "  <matplotlib.lines.Line2D at 0x7f8b847c1a00>,\n",
              "  <matplotlib.lines.Line2D at 0x7f8b75290400>,\n",
              "  <matplotlib.lines.Line2D at 0x7f8b752905e0>],\n",
              " 'caps': [<matplotlib.lines.Line2D at 0x7f8b7517f040>,\n",
              "  <matplotlib.lines.Line2D at 0x7f8b7517f0a0>,\n",
              "  <matplotlib.lines.Line2D at 0x7f8b752024c0>,\n",
              "  <matplotlib.lines.Line2D at 0x7f8b75202310>,\n",
              "  <matplotlib.lines.Line2D at 0x7f8b75290ac0>,\n",
              "  <matplotlib.lines.Line2D at 0x7f8b7e116af0>],\n",
              " 'boxes': [<matplotlib.lines.Line2D at 0x7f8b7517f190>,\n",
              "  <matplotlib.lines.Line2D at 0x7f8b751e5460>,\n",
              "  <matplotlib.lines.Line2D at 0x7f8b752907c0>],\n",
              " 'medians': [<matplotlib.lines.Line2D at 0x7f8b751e5b20>,\n",
              "  <matplotlib.lines.Line2D at 0x7f8b752021f0>,\n",
              "  <matplotlib.lines.Line2D at 0x7f8b7528aee0>],\n",
              " 'fliers': [<matplotlib.lines.Line2D at 0x7f8b751e5b80>,\n",
              "  <matplotlib.lines.Line2D at 0x7f8b75202ee0>,\n",
              "  <matplotlib.lines.Line2D at 0x7f8b7528a6a0>],\n",
              " 'means': []}"
            ]
          },
          "metadata": {},
          "execution_count": 20
        },
        {
          "output_type": "display_data",
          "data": {
            "text/plain": [
              "<Figure size 432x288 with 1 Axes>"
            ],
            "image/png": "[encoded data removed]"
          },
          "metadata": {
            "needs_background": "light"
          }
        }
      ]
    },
    {
      "cell_type": "code",
      "source": [
        "#pie chart\n",
        "# data to plot\n",
        "labels = 'python','c++','ruby','java'\n",
        "sizes = [200, 130, 10, 210]\n",
        "colors = ['gold', 'yellowgreen', 'lightcoral', 'lightskyblue']\n",
        "explode =  (0.2, 0, 0, 0)  # explode 1st slice\n",
        "\n",
        "# Plot\n",
        "plt.pie(sizes,explode = explode,labels = labels,colors= colors,shadow = True)\n",
        "\n",
        "plt.show()"
      ],
      "metadata": {
        "colab": {
          "base_uri": "https://localhost:8080/",
          "height": 248
        },
        "id": "1ahA2AJZuHrv",
        "outputId": "284e2880-6fed-4c72-89ab-97757a7864f7"
      },
      "execution_count": null,
      "outputs": [
        {
          "output_type": "display_data",
          "data": {
            "text/plain": [
              "<Figure size 432x288 with 1 Axes>"
            ],
            "image/png": "[encoded data removed]"
          },
          "metadata": {}
        }
      ]
    },
    {
      "cell_type": "code",
      "source": [
        "labels = ['python','c++','ruby','java']\n",
        "sizes = [200,130,10,210]\n",
        "colors = ['gold','yellowgreen','lightcoral','lightskyblue']\n",
        "explode = (0.2,0,0,0)\n",
        "plt.pie(sizes,explode =explode,labels=labels,colors = colors,shadow = False)\n",
        "plt.show()"
      ],
      "metadata": {
        "colab": {
          "base_uri": "https://localhost:8080/",
          "height": 248
        },
        "id": "CRCy_L9wvwOe",
        "outputId": "b6623174-2fdf-44fa-9ef2-f58de91d9c72"
      },
      "execution_count": null,
      "outputs": [
        {
          "output_type": "display_data",
          "data": {
            "text/plain": [
              "<Figure size 432x288 with 1 Axes>"
            ],
            "image/png": "[encoded data removed]"
          },
          "metadata": {}
        }
      ]
    }
  ]
}